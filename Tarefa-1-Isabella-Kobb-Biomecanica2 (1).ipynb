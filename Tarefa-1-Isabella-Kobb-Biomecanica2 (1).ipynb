{
 "cells": [
  {
   "cell_type": "markdown",
   "metadata": {},
   "source": [
    "###### Isabella Kobb Fernando, 11080015\n",
    "## Tarefa 1\n",
    "1) Modelagem mecânica do problema. 2. Gráficos dos dados experimentais (força de reação do solo) e da aceleração, velocidade e deslocamento vertical e potência mecânica do centro de gravidade do sujeito. 3. Identificação das fases do salto. 4. Estimativa da altura do salto pelo tempo de vôo e pela variação da quantidade de movimento."
   ]
  },
  {
   "cell_type": "code",
   "execution_count": 81,
   "metadata": {},
   "outputs": [],
   "source": [
    "#importando as bibliotecas\n",
    "import numpy as np\n",
    "import matplotlib.pyplot as plt\n",
    "import pandas as pd\n",
    "import seaborn as sns\n",
    "%matplotlib inline\n",
    "sns.set_context('notebook', font_scale=1.2)\n",
    "import sys, os\n",
    "#Determinando as constantes\n",
    "g = 9.81 #aceleração da gravidade"
   ]
  },
  {
   "cell_type": "code",
   "execution_count": 82,
   "metadata": {},
   "outputs": [
    {
     "name": "stdout",
     "output_type": "stream",
     "text": [
      "./salto_diurno.txt.forces\n"
     ]
    }
   ],
   "source": [
    "#carregando os dados\n",
    "fname = './salto_diurno.txt.forces' #vai digitando ./ e clicando em tab até achar o arquivo\n",
    "\n",
    "print(fname)"
   ]
  },
  {
   "cell_type": "code",
   "execution_count": 83,
   "metadata": {},
   "outputs": [
    {
     "data": {
      "text/plain": [
       "array([[-0.],\n",
       "       [-0.],\n",
       "       [-0.],\n",
       "       ...,\n",
       "       [-0.],\n",
       "       [-0.],\n",
       "       [-0.]])"
      ]
     },
     "execution_count": 83,
     "metadata": {},
     "output_type": "execute_result"
    }
   ],
   "source": [
    "#carregando os dados usando \"pandas\"\n",
    "dado = pd.read_csv(fname, sep='\\t', skiprows=4, header = 0, index_col=None, usecols=['FY5'], engine ='c').values\n",
    "dado"
   ]
  },
  {
   "cell_type": "code",
   "execution_count": 84,
   "metadata": {},
   "outputs": [
    {
     "name": "stdout",
     "output_type": "stream",
     "text": [
      "(4500, 1)\n"
     ]
    }
   ],
   "source": [
    "print(dado.shape)"
   ]
  },
  {
   "cell_type": "markdown",
   "metadata": {},
   "source": [
    "## Carregando os dados de força\n",
    "Plataforma 5 do laboratório"
   ]
  },
  {
   "cell_type": "code",
   "execution_count": 85,
   "metadata": {},
   "outputs": [
    {
     "name": "stdout",
     "output_type": "stream",
     "text": [
      "(4500,)\n"
     ]
    }
   ],
   "source": [
    "#carregando os dados usando \"pandas\" \n",
    "Fx5 = pd.read_csv(fname, sep='\\t', skiprows=4, header = 0, index_col=None, usecols=['FY5'], engine ='c').values[:,0] #unidimensional\n",
    "print(Fx5.shape)"
   ]
  },
  {
   "cell_type": "code",
   "execution_count": 86,
   "metadata": {
    "scrolled": false
   },
   "outputs": [
    {
     "name": "stdout",
     "output_type": "stream",
     "text": [
      "[0.         0.00222222 0.00444444 0.00666667 0.00888889 0.01111111\n",
      " 0.01333333 0.01555556 0.01777778 0.02      ]\n"
     ]
    }
   ],
   "source": [
    "w = 450 #freq em hz\n",
    "t = np.linspace(0, (len (Fx5)-1)/w, len(Fx5))\n",
    "print(t[: 10])\n",
    "#np.mean(1/np.diff(t)) verificar se esta espaçado em 450"
   ]
  },
  {
   "cell_type": "code",
   "execution_count": 87,
   "metadata": {},
   "outputs": [
    {
     "data": {
      "text/plain": [
       "array([2.22222222e-03, 4.44444444e-03, 6.66666667e-03, ...,\n",
       "       9.99555556e+00, 9.99777778e+00, 1.00000000e+01])"
      ]
     },
     "execution_count": 87,
     "metadata": {},
     "output_type": "execute_result"
    }
   ],
   "source": [
    "#outra forma para criar o vetor tempo usando a 1a coluna\n",
    "tempo = pd.read_csv(fname, sep='\\t', skiprows=4, header = 0, index_col=None, usecols=['#Sample'], engine ='c').values[:,0] #unidimensional\n",
    "w = 450 #freq em hz\n",
    "tp = tempo/450\n",
    "tp"
   ]
  },
  {
   "cell_type": "markdown",
   "metadata": {},
   "source": [
    "## Plotando os dados obtidos (Força X tempo)"
   ]
  },
  {
   "cell_type": "code",
   "execution_count": 88,
   "metadata": {},
   "outputs": [
    {
     "data": {
      "image/png": "[encoded data removed]",
      "text/plain": [
       "<Figure size 720x360 with 1 Axes>"
      ]
     },
     "metadata": {
      "needs_background": "light"
     },
     "output_type": "display_data"
    }
   ],
   "source": [
    "#plotando os dados\n",
    "plt.figure(figsize=(10,5))\n",
    "plt.plot(tp, Fx5, 'r', lw=3)\n",
    "plt.title('Força de reação do solo vertical')\n",
    "plt.xlabel('Tempo[s]')\n",
    "plt.ylabel('FRS [N]')\n",
    "plt.grid()\n",
    "plt.show()"
   ]
  },
  {
   "cell_type": "markdown",
   "metadata": {},
   "source": [
    "## Massa em Kg"
   ]
  },
  {
   "cell_type": "code",
   "execution_count": 90,
   "metadata": {},
   "outputs": [
    {
     "data": {
      "text/plain": [
       "70.6047570506286"
      ]
     },
     "execution_count": 90,
     "metadata": {},
     "output_type": "execute_result"
    }
   ],
   "source": [
    "#Calculando a massa do indivíduo (kg)\n",
    "mass = Fx5[900:4*450].mean()/g\n",
    "mass"
   ]
  },
  {
   "cell_type": "code",
   "execution_count": 91,
   "metadata": {},
   "outputs": [],
   "source": [
    "force = Fx5 - mass*g"
   ]
  },
  {
   "cell_type": "code",
   "execution_count": null,
   "metadata": {},
   "outputs": [],
   "source": []
  }
 ],
 "metadata": {
  "kernelspec": {
   "display_name": "Python 3",
   "language": "python",
   "name": "python3"
  },
  "language_info": {
   "codemirror_mode": {
    "name": "ipython",
    "version": 3
   },
   "file_extension": ".py",
   "mimetype": "text/x-python",
   "name": "python",
   "nbconvert_exporter": "python",
   "pygments_lexer": "ipython3",
   "version": "3.7.4"
  }
 },
 "nbformat": 4,
 "nbformat_minor": 2
}
